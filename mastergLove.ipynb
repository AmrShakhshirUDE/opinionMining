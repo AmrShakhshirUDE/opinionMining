{
 "cells": [
  {
   "cell_type": "code",
   "execution_count": 1,
   "metadata": {},
   "outputs": [],
   "source": [
    "from tensorflow.keras.preprocessing.text import Tokenizer\n",
    "from tensorflow.keras.preprocessing.sequence import pad_sequences\n",
    "from tensorflow.keras.models import Sequential\n",
    "from tensorflow.keras.layers import Dense, Flatten,Embedding,Activation,Dropout\n",
    "from tensorflow.keras.layers import Conv1D, MaxPooling1D,GlobalMaxPooling1D,LSTM\n",
    "from tensorflow.keras.optimizers import Adam\n",
    "\n",
    "import re\n",
    "import numpy as np\n",
    "from numpy import array\n",
    "import pandas as pd\n",
    "import pickle\n",
    "\n",
    "from sklearn.model_selection import train_test_split"
   ]
  },
  {
   "cell_type": "code",
   "execution_count": 2,
   "metadata": {},
   "outputs": [],
   "source": [
    "abbreviations ={\n",
    "    \"’\": \"'\",\n",
    "    \"ain't\": \"am not\",\n",
    "    \"aren't\": \"are not\",\n",
    "    \"can't\": \"cannot\",\n",
    "    \"can't've\": \"cannot have\",\n",
    "    \"'cause'\": \"because\",\n",
    "    \"could've\": \"could have\",\n",
    "    \"couldn't\": \"could not\",\n",
    "    \"couldn't've\": \"could not have\",\n",
    "    \"didn't\": \"did not\",\n",
    "    \"doesn't\": \"does not\",\n",
    "    \"don't\": \"do not\",\n",
    "    \"hadn't\": \"had not\",\n",
    "    \"hadn't've\": \"had not have\",\n",
    "    \"hasn't\": \"has not\",\n",
    "    \"haven't\": \"have not\",\n",
    "    \"he'd\": \"he would\",\n",
    "    \"he'd've\": \"he would have\",\n",
    "    \"he'll\": \"he will\",\n",
    "    \"he'll've\": \"he will have\",\n",
    "    \"he's\": \"he is\",\n",
    "    \"how'd\": \"how did\",\n",
    "    \"how'd'y\": \"how do you\",\n",
    "    \"how'll\": \"how will\",\n",
    "    \"how's\": \"how does\",\n",
    "    \"i'd\": \"i would\",\n",
    "    \"i'd've\": \"i would have\",\n",
    "    \"i'll\": \"i will\",\n",
    "    \"i'll've\": \"i will have\",\n",
    "    \"i'am\": \"i am\",\n",
    "    \"i've\": \"i have\",\n",
    "    \"isn't\": \"is not\",\n",
    "    \"it'd\": \"it would\",\n",
    "    \"it'd've\": \"it would have\",\n",
    "    \"it'll\": \"it will\",\n",
    "    \"it'll've\": \"it will have\",\n",
    "    \"it's\": \"it is\",\n",
    "    \"let's\": \"let us\",\n",
    "    \"ma'am\": \"madam\",\n",
    "    \"mayn't\": \"may not\",\n",
    "    \"might've\": \"might have\",\n",
    "    \"mightn't\": \"might not\",\n",
    "    \"mightn't've\": \"might not have\",\n",
    "    \"must've\": \"must have\",\n",
    "    \"mustn't\": \"must not\",\n",
    "    \"mustn't've\": \"must not have\",\n",
    "    \"needn't\": \"need not\",\n",
    "    \"needn't've\": \"need not have\",\n",
    "    \"o'clock\": \"of the clock\",\n",
    "    \"oughtn't\": \"ought not\",\n",
    "    \"oughtn't've\": \"ought not have\",\n",
    "    \"shalln't\": \"shall not\",\n",
    "    \"shan't\": \"shall not\",\n",
    "    \"shan't've\": \"shall not have\",\n",
    "    \"sha'n't\": \"shall not\",\n",
    "    \"she'd\": \"she would\",\n",
    "    \"she'd've\": \"she would have\",\n",
    "    \"she'll\": \"she will\",\n",
    "    \"she'll've\": \"she will have\",\n",
    "    \"she's\": \"he is\",\n",
    "    \"shouldn've\": \"should have\",\n",
    "    \"shouldn't\": \"should not\",\n",
    "    \"shouldn't've\": \"should not have\",\n",
    "    \"so've\": \"so have\",\n",
    "    \"so's\": \"so is\",\n",
    "    \"that'd\": \"that would\",\n",
    "    \"that'd've\": \"that would have\",\n",
    "    \"that's\": \"that is\",\n",
    "    \"there'd\": \"there would\",\n",
    "    \"there'd've\": \"there would have\",\n",
    "    \"there'is\": \"there is\",\n",
    "    \"they'd\": \"they would\",\n",
    "    \"they'd've\": \"they would have\",\n",
    "    \"they'll\": \"they will\",\n",
    "    \"they'll've\": \"they will have\",\n",
    "    \"they're\": \"they are\",\n",
    "    \"they've\": \"they have\",\n",
    "    \"to've\": \"to have\",\n",
    "    \"wasn't\": \"was not\",\n",
    "    \"were't\": \"were not\",\n",
    "    \" u \": \"you\",\n",
    "    \" ur \": \"your\",\n",
    "    \"you’re\": \"you are\",\n",
    "    \"you're\": \"you are\",\n",
    "    \" u'r \": \"you are\",\n",
    "    \" n \": \"and\",\n",
    "    \" lil mor \": \"little more\",\n",
    "    \" can' \": \"cannot\",\n",
    "    \" gov re \": \"government regulations\",\n",
    "    \" yea \": \" yes \",\n",
    "    \" yeah \": \" yes \",    \n",
    "}"
   ]
  },
  {
   "cell_type": "code",
   "execution_count": 3,
   "metadata": {
    "scrolled": true
   },
   "outputs": [
    {
     "data": {
      "text/html": [
       "<div>\n",
       "<style scoped>\n",
       "    .dataframe tbody tr th:only-of-type {\n",
       "        vertical-align: middle;\n",
       "    }\n",
       "\n",
       "    .dataframe tbody tr th {\n",
       "        vertical-align: top;\n",
       "    }\n",
       "\n",
       "    .dataframe thead th {\n",
       "        text-align: right;\n",
       "    }\n",
       "</style>\n",
       "<table border=\"1\" class=\"dataframe\">\n",
       "  <thead>\n",
       "    <tr style=\"text-align: right;\">\n",
       "      <th></th>\n",
       "      <th>tweet</th>\n",
       "      <th>subjectivity</th>\n",
       "    </tr>\n",
       "  </thead>\n",
       "  <tbody>\n",
       "    <tr>\n",
       "      <th>0</th>\n",
       "      <td>@VancityReynolds @vincenzolandino @007 does Ca...</td>\n",
       "      <td>subjective</td>\n",
       "    </tr>\n",
       "    <tr>\n",
       "      <th>1</th>\n",
       "      <td>@VancityReynolds @vincenzolandino @007 ????yea...</td>\n",
       "      <td>subjective</td>\n",
       "    </tr>\n",
       "    <tr>\n",
       "      <th>2</th>\n",
       "      <td>@VancityReynolds @vincenzolandino @007 We all ...</td>\n",
       "      <td>subjective</td>\n",
       "    </tr>\n",
       "    <tr>\n",
       "      <th>3</th>\n",
       "      <td>@VancityReynolds @vincenzolandino @007 You wou...</td>\n",
       "      <td>subjective</td>\n",
       "    </tr>\n",
       "    <tr>\n",
       "      <th>4</th>\n",
       "      <td>HE LOOKS LIKE AN AGENT OR KINGSMAN TYPE OF SHI...</td>\n",
       "      <td>subjective</td>\n",
       "    </tr>\n",
       "  </tbody>\n",
       "</table>\n",
       "</div>"
      ],
      "text/plain": [
       "                                               tweet subjectivity\n",
       "0  @VancityReynolds @vincenzolandino @007 does Ca...   subjective\n",
       "1  @VancityReynolds @vincenzolandino @007 ????yea...   subjective\n",
       "2  @VancityReynolds @vincenzolandino @007 We all ...   subjective\n",
       "3  @VancityReynolds @vincenzolandino @007 You wou...   subjective\n",
       "4  HE LOOKS LIKE AN AGENT OR KINGSMAN TYPE OF SHI...   subjective"
      ]
     },
     "execution_count": 3,
     "metadata": {},
     "output_type": "execute_result"
    }
   ],
   "source": [
    "indomain= pd.read_csv('./datasets/indomain.csv', encoding='utf8') #onlyTweets\n",
    "indomain.head()"
   ]
  },
  {
   "cell_type": "code",
   "execution_count": 4,
   "metadata": {},
   "outputs": [
    {
     "data": {
      "text/html": [
       "<div>\n",
       "<style scoped>\n",
       "    .dataframe tbody tr th:only-of-type {\n",
       "        vertical-align: middle;\n",
       "    }\n",
       "\n",
       "    .dataframe tbody tr th {\n",
       "        vertical-align: top;\n",
       "    }\n",
       "\n",
       "    .dataframe thead th {\n",
       "        text-align: right;\n",
       "    }\n",
       "</style>\n",
       "<table border=\"1\" class=\"dataframe\">\n",
       "  <thead>\n",
       "    <tr style=\"text-align: right;\">\n",
       "      <th></th>\n",
       "      <th>tweet</th>\n",
       "      <th>subjectivity</th>\n",
       "      <th>ts</th>\n",
       "      <th>actual</th>\n",
       "    </tr>\n",
       "  </thead>\n",
       "  <tbody>\n",
       "    <tr>\n",
       "      <th>0</th>\n",
       "      <td>Oh right but if you're one of those absolute w...</td>\n",
       "      <td>subjective</td>\n",
       "      <td>y</td>\n",
       "      <td>subjective</td>\n",
       "    </tr>\n",
       "    <tr>\n",
       "      <th>1</th>\n",
       "      <td>I ate the squid game burger.  https://t.co/wqV...</td>\n",
       "      <td>objective</td>\n",
       "      <td>y</td>\n",
       "      <td>objective</td>\n",
       "    </tr>\n",
       "    <tr>\n",
       "      <th>2</th>\n",
       "      <td>It was 5011 million Squid Games costumes and p...</td>\n",
       "      <td>subjective</td>\n",
       "      <td>y</td>\n",
       "      <td>subjective</td>\n",
       "    </tr>\n",
       "    <tr>\n",
       "      <th>3</th>\n",
       "      <td>If you enjoyed squid game, you should definite...</td>\n",
       "      <td>subjective</td>\n",
       "      <td>y</td>\n",
       "      <td>subjective</td>\n",
       "    </tr>\n",
       "    <tr>\n",
       "      <th>4</th>\n",
       "      <td>Social inequality and hyper violence: why the ...</td>\n",
       "      <td>objective</td>\n",
       "      <td>y</td>\n",
       "      <td>objective</td>\n",
       "    </tr>\n",
       "  </tbody>\n",
       "</table>\n",
       "</div>"
      ],
      "text/plain": [
       "                                               tweet subjectivity ts  \\\n",
       "0  Oh right but if you're one of those absolute w...   subjective  y   \n",
       "1  I ate the squid game burger.  https://t.co/wqV...    objective  y   \n",
       "2  It was 5011 million Squid Games costumes and p...   subjective  y   \n",
       "3  If you enjoyed squid game, you should definite...   subjective  y   \n",
       "4  Social inequality and hyper violence: why the ...    objective  y   \n",
       "\n",
       "       actual  \n",
       "0  subjective  \n",
       "1   objective  \n",
       "2  subjective  \n",
       "3  subjective  \n",
       "4   objective  "
      ]
     },
     "execution_count": 4,
     "metadata": {},
     "output_type": "execute_result"
    }
   ],
   "source": [
    "outdomain= pd.read_csv('./datasets/outdomain.csv',sep=',', encoding='utf-8') #onlyTweets\n",
    "outdomain.head()"
   ]
  },
  {
   "cell_type": "markdown",
   "metadata": {},
   "source": [
    "### Translating emojis"
   ]
  },
  {
   "cell_type": "code",
   "execution_count": 5,
   "metadata": {},
   "outputs": [],
   "source": [
    "with open('./dictionaries/Emoji_Dict.p', 'rb') as fp:\n",
    "    Emoji_Dict = pickle.load(fp)\n",
    "Emoji_Dict = {v: k for k, v in Emoji_Dict.items()}\n",
    "\n",
    "def convert_emojis_to_word(text):\n",
    "    for emot in Emoji_Dict:\n",
    "        text = re.sub(r'('+emot+')', \"_\".join(Emoji_Dict[emot].replace(\",\",\"\").replace(\":\",\"\").split()) +' emojihasbeendetected ', text)\n",
    "    return text"
   ]
  },
  {
   "cell_type": "code",
   "execution_count": 6,
   "metadata": {},
   "outputs": [
    {
     "data": {
      "text/plain": [
       "0      @VancityReynolds @vincenzolandino @007 does Ca...\n",
       "1      @VancityReynolds @vincenzolandino @007 ????yea...\n",
       "2      @VancityReynolds @vincenzolandino @007 We all ...\n",
       "3      @VancityReynolds @vincenzolandino @007 You wou...\n",
       "4      HE LOOKS LIKE AN AGENT OR KINGSMAN TYPE OF SHI...\n",
       "                             ...                        \n",
       "839    Police officers who guard Downing Street have ...\n",
       "840    A jury has criticised police and prosecutors a...\n",
       "841    Former model Katie Price faces a possible pris...\n",
       "842    Nearly two thirds of the public back the aboli...\n",
       "843    Deputy Prime Minister Dominic Raab said on Sun...\n",
       "Name: tweet, Length: 844, dtype: object"
      ]
     },
     "execution_count": 6,
     "metadata": {},
     "output_type": "execute_result"
    }
   ],
   "source": [
    "indomain[\"tweet\"]=indomain[\"tweet\"].apply(convert_emojis_to_word)\n",
    "indomain[\"tweet\"]\n",
    "# time 1m11.8s"
   ]
  },
  {
   "cell_type": "code",
   "execution_count": 7,
   "metadata": {},
   "outputs": [
    {
     "data": {
      "text/plain": [
       "0      Oh right but if you're one of those absolute w...\n",
       "1      I ate the squid game burger.  https://t.co/wqV...\n",
       "2      It was 5011 million Squid Games costumes and p...\n",
       "3      If you enjoyed squid game, you should definite...\n",
       "4      Social inequality and hyper violence: why the ...\n",
       "                             ...                        \n",
       "665     @CristianoXtra_ Uneducated Admin, This is 202...\n",
       "666    Lionel Messi said Lewandowski deserves the Bal...\n",
       "667    FIFA Club World Cup in 2020 and he's won the C...\n",
       "668    Li Tie was appointed as the China national hea...\n",
       "669    My top 5 last games i played are  1  FIFA 2021...\n",
       "Name: tweet, Length: 670, dtype: object"
      ]
     },
     "execution_count": 7,
     "metadata": {},
     "output_type": "execute_result"
    }
   ],
   "source": [
    "outdomain[\"tweet\"]=outdomain[\"tweet\"].apply(convert_emojis_to_word)\n",
    "outdomain[\"tweet\"]\n",
    "# time 56.8s "
   ]
  },
  {
   "cell_type": "markdown",
   "metadata": {},
   "source": [
    "### Preprocessing function"
   ]
  },
  {
   "cell_type": "code",
   "execution_count": 8,
   "metadata": {},
   "outputs": [],
   "source": [
    "import string\n",
    "import re\n",
    "def cleanTweets(tweet):\n",
    "    tweet= re.sub(r'@[A-Za-z0-9]+','',tweet)                            #remove @mentions;r-> the expression is a raw string,+ -> one char or more\n",
    "    tweet= re.sub(r'#','',tweet)                                        #remove '#' Symbol\n",
    "    # tweet= re.sub(r'RT[\\s]+','',tweet)                                  #remove RT\n",
    "    tweet= re.sub(r'https?:\\/\\/\\S+','websiteisgiven',tweet)             #replace hyper links\n",
    "    # tweet= tweet.lower()                                                #convert to lowercase\n",
    "    # tweet= re.sub(r'\\d+', '', tweet)                                    #remove numbers (DON'T activate it if numbers in text are relevant)\n",
    "    translator = str.maketrans('', '', string.punctuation)\n",
    "    tweet= tweet.translate(translator)                                  #remove punctuations\n",
    "    # tweet = re.sub(r\"[!\\\"#$%&'()*+,\\-/:;<=>@[\\]^_`{|}~]\", '', tweet)\n",
    "    return tweet"
   ]
  },
  {
   "cell_type": "code",
   "execution_count": 9,
   "metadata": {},
   "outputs": [
    {
     "name": "stdout",
     "output_type": "stream",
     "text": [
      "0         does Canada have its own spy agency lol the...\n",
      "1                       yea I dont want ya as James Bond\n",
      "2         We all love Ryan but hes Canadian and inste...\n",
      "3         You woud make a great James Bond but you wo...\n",
      "4      HE LOOKS LIKE AN AGENT OR KINGSMAN TYPE OF SHI...\n",
      "                             ...                        \n",
      "839    Police officers who guard Downing Street have ...\n",
      "840    A jury has criticised police and prosecutors a...\n",
      "841    Former model Katie Price faces a possible pris...\n",
      "842    Nearly two thirds of the public back the aboli...\n",
      "843    Deputy Prime Minister Dominic Raab said on Sun...\n",
      "Name: tweet, Length: 844, dtype: object\n",
      "CPU times: total: 15.6 ms\n",
      "Wall time: 5 ms\n"
     ]
    }
   ],
   "source": [
    "%%time\n",
    "indomain['tweet']= indomain['tweet'].apply(lambda txt:cleanTweets(txt))\n",
    "print(indomain['tweet'])"
   ]
  },
  {
   "cell_type": "code",
   "execution_count": 10,
   "metadata": {},
   "outputs": [
    {
     "name": "stdout",
     "output_type": "stream",
     "text": [
      "0      Oh right but if youre one of those absolute we...\n",
      "1            I ate the squid game burger  websiteisgiven\n",
      "2      It was 5011 million Squid Games costumes and p...\n",
      "3      If you enjoyed squid game you should definitel...\n",
      "4      Social inequality and hyper violence why the b...\n",
      "                             ...                        \n",
      "665      Uneducated Admin This is 2020 FIFA The Best ...\n",
      "666    Lionel Messi said Lewandowski deserves the Bal...\n",
      "667    FIFA Club World Cup in 2020 and hes won the CA...\n",
      "668    Li Tie was appointed as the China national hea...\n",
      "669    My top 5 last games i played are  1  FIFA 2021...\n",
      "Name: tweet, Length: 670, dtype: object\n",
      "CPU times: total: 0 ns\n",
      "Wall time: 6 ms\n"
     ]
    }
   ],
   "source": [
    "%%time\n",
    "outdomain['tweet']= outdomain['tweet'].apply(lambda txt:cleanTweets(txt))\n",
    "print(outdomain['tweet'])"
   ]
  },
  {
   "cell_type": "code",
   "execution_count": 11,
   "metadata": {},
   "outputs": [],
   "source": [
    "import re\n",
    "inText=' '.join(indomain['tweet'])\n",
    "inText=inText.split()\n",
    "inFreqComm= pd.Series(inText).value_counts()\n",
    "inRare=inFreqComm[inFreqComm.values==1] # get words that have been occured a single time to be removed from dataset\n",
    "\n",
    "def getCleanTextIn(txt):\n",
    "    if type(txt) is str:\n",
    "        txt=txt.lower()\n",
    "        for key in abbreviations:                                                   #transform abbreviations into complete words\n",
    "            value = abbreviations[key]\n",
    "            txt=txt.replace(key, value)\n",
    "#         # txt=re.sub(r'[A-Za-z0-9+._-]+@[A-Za-z0-9+._-]+\\.[A-Za-z0-9+._-]+','',txt)   #remove emails\n",
    "#         txt= re.sub(r'@[A-Za-z0-9]+','',txt)                                        #remove @mentions;r-> the expression is a raw string,+ -> one char or more\n",
    "#         txt= re.sub(r'#','',txt)                                                    #remove '#' Symbol\n",
    "#         txt= re.sub(r'RT[\\s]+','',txt)                                              #remove RT\n",
    "#         txt= re.sub(r'https?:\\/\\/\\S+','websiteisgiven',txt)                         #transform all hyper links to keys\n",
    "#         # txt=re.sub('[^A-Z a-z]+','',txt)                                            #keep only charecters\n",
    "        # txt=' '.join([term for term in txt.split() if term not in rare])            #keep only frequent words/ neglect once occured words\n",
    "        return txt\n",
    "    else:\n",
    "        return txt"
   ]
  },
  {
   "cell_type": "markdown",
   "metadata": {},
   "source": [
    "## Translator"
   ]
  },
  {
   "cell_type": "code",
   "execution_count": 12,
   "metadata": {},
   "outputs": [],
   "source": [
    "# from deep_translator import GoogleTranslator\n",
    "\n",
    "# translated1=[]\n",
    "# for i in indomain['tweet']:\n",
    "#     translated1.append(GoogleTranslator(source='auto', target='de').translate(i))\n",
    "# translated1\n",
    "\n",
    "# # time 19m37.1s\n",
    "\n",
    "# # to_translate = 'I want to translate this text'\n",
    "# # translated = GoogleTranslator(source='auto', target='de').translate(to_translate)\n",
    "# # outpout -> Ich möchte diesen Text übersetzen"
   ]
  },
  {
   "cell_type": "code",
   "execution_count": 13,
   "metadata": {},
   "outputs": [],
   "source": [
    "# %%time\n",
    "# translated=[]\n",
    "# for i in translated1:\n",
    "#     translated.append(GoogleTranslator(source='auto', target='en').translate(i))\n",
    "# translated\n",
    "\n",
    "# # time: 11min 15.4s"
   ]
  },
  {
   "cell_type": "code",
   "execution_count": 14,
   "metadata": {},
   "outputs": [],
   "source": [
    "# tweets=indomain[\"tweet\"].tolist()\n",
    "# type(tweets)\n",
    "# tweets=tweets+translated\n",
    "# tweets"
   ]
  },
  {
   "cell_type": "markdown",
   "metadata": {},
   "source": [
    "### Write translated to text file"
   ]
  },
  {
   "cell_type": "code",
   "execution_count": 15,
   "metadata": {},
   "outputs": [],
   "source": [
    "# textfile = open(\"./translated/listFlie.txt\", \"w\",encoding=\"utf-8\")\n",
    "# for element in tweets:\n",
    "#     textfile.write(element + \"\\n\")\n",
    "# textfile.close()"
   ]
  },
  {
   "cell_type": "markdown",
   "metadata": {},
   "source": [
    "### End of translation configuration"
   ]
  },
  {
   "cell_type": "markdown",
   "metadata": {},
   "source": [
    "### Read translated from text file"
   ]
  },
  {
   "cell_type": "code",
   "execution_count": 16,
   "metadata": {},
   "outputs": [],
   "source": [
    "#Make sure to remove last empty line from listFile.txt before run this snippet\n",
    "my_file = open(\"./translated/listFlie.txt\", \"r\",encoding=\"utf-8\",newline=\"\\r\\n\")\n",
    "listText = my_file.read().split(\"\\r\\n\")\n",
    "# listText"
   ]
  },
  {
   "cell_type": "code",
   "execution_count": 17,
   "metadata": {},
   "outputs": [
    {
     "data": {
      "text/plain": [
       "844     Does Canada have its own spy agency lol they s...\n",
       "845                   Yes, I don't want you as James Bond\n",
       "846     We all love Ryan but he is Canadian and instea...\n",
       "847     You'd make a great James Bond, but you'd have ...\n",
       "848     HE LOOKS LIKE AN AGENT OR KINGSMAN TYPE OF SHI...\n",
       "                              ...                        \n",
       "1683    Police officers guarding Downing Street were i...\n",
       "1684    A jury has criticized police and prosecutors a...\n",
       "1685    Former model Katie Price faces possible jail t...\n",
       "1686    Almost two-thirds of the public supports scrap...\n",
       "1687    Deputy Prime Minister Dominic Raab said on Sun...\n",
       "Length: 844, dtype: object"
      ]
     },
     "execution_count": 17,
     "metadata": {},
     "output_type": "execute_result"
    }
   ],
   "source": [
    "translatedList= pd.Series(listText)\n",
    "translatedList\n",
    "start=len(indomain['tweet'])\n",
    "translatedList=translatedList[start:len(translatedList)]\n",
    "translatedList"
   ]
  },
  {
   "cell_type": "code",
   "execution_count": 18,
   "metadata": {},
   "outputs": [],
   "source": [
    "# type(translatedList)"
   ]
  },
  {
   "cell_type": "markdown",
   "metadata": {},
   "source": [
    "## End of translation"
   ]
  },
  {
   "cell_type": "markdown",
   "metadata": {},
   "source": [
    "### Text cleaning"
   ]
  },
  {
   "cell_type": "code",
   "execution_count": 19,
   "metadata": {},
   "outputs": [],
   "source": [
    "ouText=' '.join(outdomain['tweet'])\n",
    "ouText=ouText.split()\n",
    "outFreqComm= pd.Series(ouText).value_counts()\n",
    "outRare=outFreqComm[outFreqComm.values==1] # get words that have been occured a single time to be removed from dataset\n",
    "\n",
    "def getCleanTextOut(txt):\n",
    "    if type(txt) is str:\n",
    "        txt=txt.lower()\n",
    "        for key in abbreviations:                                                   #transform abbreviations into complete words\n",
    "            value = abbreviations[key]\n",
    "            txt=txt.replace(key, value)\n",
    "#         # txt=re.sub(r'[A-Za-z0-9+._-]+@[A-Za-z0-9+._-]+\\.[A-Za-z0-9+._-]+','',txt)   #remove emails\n",
    "#         txt= re.sub(r'@[A-Za-z0-9]+','',txt)                                        #remove @mentions;r-> the expression is a raw string,+ -> one char or more\n",
    "#         txt= re.sub(r'#','',txt)                                                    #remove '#' Symbol\n",
    "#         txt= re.sub(r'RT[\\s]+','',txt)                                              #remove RT\n",
    "#         txt= re.sub(r'https?:\\/\\/\\S+','websiteisgiven',txt)                         #transform all hyper links to keys\n",
    "#         txt=re.sub('[^A-Z a-z]+','',txt)                                            #keep only charecters\n",
    "#         txt=' '.join([term for term in txt.split() if term not in rare])            #keep only frequent words/ neglect once occured words\n",
    "        return txt\n",
    "    else:\n",
    "        return txt"
   ]
  },
  {
   "cell_type": "code",
   "execution_count": 20,
   "metadata": {},
   "outputs": [],
   "source": [
    "# %%time\n",
    "# tweets= tweets.apply(lambda txt:getCleanTextIn(txt))\n",
    "# print(tweets)"
   ]
  },
  {
   "cell_type": "code",
   "execution_count": 21,
   "metadata": {},
   "outputs": [
    {
     "name": "stdout",
     "output_type": "stream",
     "text": [
      "0         does canada have its own spy agency lol the...\n",
      "1                       yes i dont want ya as james bond\n",
      "2         we all love ryan but hes canadian and inste...\n",
      "3         you woud make a great james bond but you wo...\n",
      "4      he looks like an agent or kingsman type of shi...\n",
      "                             ...                        \n",
      "839    police officers who guard downing street have ...\n",
      "840    a jury has criticised police and prosecutors a...\n",
      "841    former model katie price faces a possible pris...\n",
      "842    nearly two thirds of the public back the aboli...\n",
      "843    deputy prime minister dominic raab said on sun...\n",
      "Name: tweet, Length: 844, dtype: object\n",
      "CPU times: total: 15.6 ms\n",
      "Wall time: 12 ms\n"
     ]
    }
   ],
   "source": [
    "%%time\n",
    "indomain['tweet']= indomain['tweet'].apply(lambda txt:getCleanTextIn(txt))\n",
    "print(indomain['tweet'])"
   ]
  },
  {
   "cell_type": "code",
   "execution_count": 22,
   "metadata": {},
   "outputs": [
    {
     "name": "stdout",
     "output_type": "stream",
     "text": [
      "0      oh right but if youre one of those absolute we...\n",
      "1            i ate the squid game burger  websiteisgiven\n",
      "2      it was 5011 million squid games costumes and p...\n",
      "3      if you enjoyed squid game you should definitel...\n",
      "4      social inequality and hyper violence why the b...\n",
      "                             ...                        \n",
      "665      uneducated admin this is 2020 fifa the best ...\n",
      "666    lionel messi said lewandowski deserves the bal...\n",
      "667    fifa club world cup in 2020 and hes won the ca...\n",
      "668    li tie was appointed as the china national hea...\n",
      "669    my top 5 last games i played are  1  fifa 2021...\n",
      "Name: tweet, Length: 670, dtype: object\n",
      "CPU times: total: 15.6 ms\n",
      "Wall time: 12 ms\n"
     ]
    }
   ],
   "source": [
    "%%time\n",
    "outdomain['tweet']= outdomain['tweet'].apply(lambda txt:getCleanTextOut(txt))\n",
    "print(outdomain['tweet'])"
   ]
  },
  {
   "cell_type": "markdown",
   "metadata": {},
   "source": [
    "### Cleaning translated"
   ]
  },
  {
   "cell_type": "code",
   "execution_count": 23,
   "metadata": {},
   "outputs": [
    {
     "data": {
      "text/plain": [
       "844     Does Canada have its own spy agency lol they s...\n",
       "845                     Yes I dont want you as James Bond\n",
       "846     We all love Ryan but he is Canadian and instea...\n",
       "847     Youd make a great James Bond but youd have to ...\n",
       "848     HE LOOKS LIKE AN AGENT OR KINGSMAN TYPE OF SHI...\n",
       "                              ...                        \n",
       "1683    Police officers guarding Downing Street were i...\n",
       "1684    A jury has criticized police and prosecutors a...\n",
       "1685    Former model Katie Price faces possible jail t...\n",
       "1686    Almost twothirds of the public supports scrapp...\n",
       "1687    Deputy Prime Minister Dominic Raab said on Sun...\n",
       "Length: 844, dtype: object"
      ]
     },
     "execution_count": 23,
     "metadata": {},
     "output_type": "execute_result"
    }
   ],
   "source": [
    "translatedList= translatedList.apply(lambda txt:cleanTweets(txt))\n",
    "translatedList"
   ]
  },
  {
   "cell_type": "code",
   "execution_count": 24,
   "metadata": {},
   "outputs": [
    {
     "name": "stdout",
     "output_type": "stream",
     "text": [
      "CPU times: total: 15.6 ms\n",
      "Wall time: 11 ms\n"
     ]
    },
    {
     "data": {
      "text/plain": [
       "844     does canada have its own spy agency lol they s...\n",
       "845                     yes i dont want you as james bond\n",
       "846     we all love ryan but he is canadian and instea...\n",
       "847     youd make a great james bond but youd have to ...\n",
       "848     he looks like an agent or kingsman type of shi...\n",
       "                              ...                        \n",
       "1683    police officers guarding downing street were i...\n",
       "1684    a jury has criticized police and prosecutors a...\n",
       "1685    former model katie price faces possible jail t...\n",
       "1686    almost twothirds of the public supports scrapp...\n",
       "1687    deputy prime minister dominic raab said on sun...\n",
       "Length: 844, dtype: object"
      ]
     },
     "execution_count": 24,
     "metadata": {},
     "output_type": "execute_result"
    }
   ],
   "source": [
    "%%time\n",
    "translatedList= translatedList.apply(lambda txt:getCleanTextIn(txt))\n",
    "translatedList"
   ]
  },
  {
   "cell_type": "markdown",
   "metadata": {},
   "source": [
    "#### Numerizing target values"
   ]
  },
  {
   "cell_type": "code",
   "execution_count": 25,
   "metadata": {},
   "outputs": [
    {
     "data": {
      "text/plain": [
       "objective     433\n",
       "subjective    411\n",
       "Name: subjectivity, dtype: int64"
      ]
     },
     "execution_count": 25,
     "metadata": {},
     "output_type": "execute_result"
    }
   ],
   "source": [
    "indomain['subjectivity'].value_counts()"
   ]
  },
  {
   "cell_type": "code",
   "execution_count": 26,
   "metadata": {},
   "outputs": [
    {
     "data": {
      "text/plain": [
       "subjective    466\n",
       "objective     204\n",
       "Name: subjectivity, dtype: int64"
      ]
     },
     "execution_count": 26,
     "metadata": {},
     "output_type": "execute_result"
    }
   ],
   "source": [
    "outdomain['subjectivity'].value_counts()"
   ]
  },
  {
   "cell_type": "code",
   "execution_count": 29,
   "metadata": {},
   "outputs": [
    {
     "name": "stdout",
     "output_type": "stream",
     "text": [
      "rows are:  844\n",
      "columns are:  158\n"
     ]
    },
    {
     "data": {
      "text/plain": [
       "['   does canada have its own spy agency lol they send him undercover to stop the japanese mafia from selling imitation canadian bacon in a hot fuzz style movie',\n",
       " '   yes i dont want ya as james bond',\n",
       " '   we all love ryan but hes canadian and instead of killing the baddie he would try to talk them down by being nice']"
      ]
     },
     "execution_count": 29,
     "metadata": {},
     "output_type": "execute_result"
    }
   ],
   "source": [
    "inText = indomain['tweet'].tolist()   #convert series to list\n",
    "print('rows are: ',len(inText))\n",
    "print('columns are: ',len(inText[0]))\n",
    "inText[:3]                            #show 3 lines"
   ]
  },
  {
   "cell_type": "markdown",
   "metadata": {},
   "source": [
    "## Concat translated to original"
   ]
  },
  {
   "cell_type": "code",
   "execution_count": 1,
   "metadata": {},
   "outputs": [],
   "source": [
    "# translatedList=translatedList.tolist()\n",
    "# translatedList"
   ]
  },
  {
   "cell_type": "markdown",
   "metadata": {},
   "source": [
    "## Add back-translated to original"
   ]
  },
  {
   "cell_type": "code",
   "execution_count": 31,
   "metadata": {},
   "outputs": [
    {
     "data": {
      "text/plain": [
       "844"
      ]
     },
     "execution_count": 31,
     "metadata": {},
     "output_type": "execute_result"
    }
   ],
   "source": [
    "flag=0\n",
    "text1=inText\n",
    "len(text1)"
   ]
  },
  {
   "cell_type": "code",
   "execution_count": 2,
   "metadata": {},
   "outputs": [],
   "source": [
    "# if flag ==0:\n",
    "#     text1= inText+translatedList\n",
    "#     flag+=1\n",
    "\n",
    "# text= text1\n",
    "# print(len(text))\n",
    "# text"
   ]
  },
  {
   "cell_type": "markdown",
   "metadata": {},
   "source": [
    "### Shuffle text"
   ]
  },
  {
   "cell_type": "code",
   "execution_count": 33,
   "metadata": {},
   "outputs": [],
   "source": [
    "# import random\n",
    "# shuff=text\n",
    "# twtShuffle=[]\n",
    "\n",
    "# def scramble(sentence):\n",
    "#    split = sentence.split()  # Split the string into a list of words\n",
    "#    random.shuffle(split)  # This shuffles the list in-place.\n",
    "#    return ' '.join(split)  # Turn the list back into a string\n",
    "\n",
    "# row=0\n",
    "# col=0\n",
    "# for i in shuff:\n",
    "#    row +=1\n",
    "#    col = row\n",
    "#    for j in i:\n",
    "#       if row == col:\n",
    "#          twtShuffle.append(scramble(i))\n",
    "#          col +=1\n",
    "\n",
    "# print(type(twtShuffle))\n",
    "# print('rows are: ',len(twtShuffle))\n",
    "# print('columns are: ',len(twtShuffle[0]))\n",
    "# # print(twtShuffle)\n",
    "# print(row)\n",
    "# print(col)\n",
    "\n",
    "# # textfile = open(\"shuffleList.txt\", \"w\",encoding=\"utf-8\")\n",
    "# # for element in twtShuffle:\n",
    "# #     textfile.write(element + \"\\n\")\n",
    "# # textfile.close()"
   ]
  },
  {
   "cell_type": "code",
   "execution_count": 34,
   "metadata": {},
   "outputs": [],
   "source": [
    "# text= text+twtShuffle\n",
    "# text"
   ]
  },
  {
   "cell_type": "markdown",
   "metadata": {},
   "source": [
    "### End shuffling"
   ]
  },
  {
   "cell_type": "code",
   "execution_count": 35,
   "metadata": {},
   "outputs": [
    {
     "data": {
      "text/plain": [
       "['  poor lil man loudlycryingface emojihasbeendetected loudlycryingface emojihasbeendetected loudlycryingface emojihasbeendetected  let him get some sleep bro']"
      ]
     },
     "execution_count": 35,
     "metadata": {},
     "output_type": "execute_result"
    }
   ],
   "source": [
    "ouText = outdomain['tweet'].tolist()   #convert series to list\n",
    "ouText[16:17]                            #show 3 lines"
   ]
  },
  {
   "cell_type": "code",
   "execution_count": 36,
   "metadata": {},
   "outputs": [
    {
     "data": {
      "text/plain": [
       "0       1\n",
       "1       1\n",
       "2       1\n",
       "3       1\n",
       "4       1\n",
       "       ..\n",
       "1683    0\n",
       "1684    0\n",
       "1685    0\n",
       "1686    0\n",
       "1687    0\n",
       "Length: 1688, dtype: int8"
      ]
     },
     "execution_count": 36,
     "metadata": {},
     "output_type": "execute_result"
    }
   ],
   "source": [
    "indomain[\"subjectivity\"] = indomain[\"subjectivity\"].astype('category')\n",
    "target = indomain['subjectivity'].cat.codes\n",
    "target = pd.concat([target]*2, ignore_index=True) #repeat target values *x times\n",
    "# type(target)\n",
    "target"
   ]
  },
  {
   "cell_type": "markdown",
   "metadata": {},
   "source": [
    "## Activate next snippet only when text shuffling"
   ]
  },
  {
   "cell_type": "code",
   "execution_count": 37,
   "metadata": {},
   "outputs": [],
   "source": [
    "# target = pd.concat([target]*2, ignore_index=True) #repeat target values *x times\n",
    "# # type(target)\n",
    "# target"
   ]
  },
  {
   "cell_type": "code",
   "execution_count": 38,
   "metadata": {},
   "outputs": [],
   "source": [
    "outdomain[\"subjectivity\"] = outdomain[\"actual\"].astype('category')\n",
    "ouTarget = outdomain['subjectivity'].cat.codes"
   ]
  },
  {
   "cell_type": "code",
   "execution_count": 39,
   "metadata": {},
   "outputs": [],
   "source": [
    "token = Tokenizer()\n",
    "token.fit_on_texts(text)"
   ]
  },
  {
   "cell_type": "code",
   "execution_count": 40,
   "metadata": {},
   "outputs": [
    {
     "data": {
      "text/plain": [
       "4794"
      ]
     },
     "execution_count": 40,
     "metadata": {},
     "output_type": "execute_result"
    }
   ],
   "source": [
    "vocabSize = len(token.word_index) + 1\n",
    "vocabSize #2903 - 4276 vocabularies/ with back translated 3288-4794"
   ]
  },
  {
   "cell_type": "code",
   "execution_count": 41,
   "metadata": {},
   "outputs": [],
   "source": [
    "# print(token.word_index) #how vocabs have been indexed"
   ]
  },
  {
   "cell_type": "code",
   "execution_count": 42,
   "metadata": {},
   "outputs": [
    {
     "name": "stdout",
     "output_type": "stream",
     "text": [
      "[[212, 1322, 16, 30, 495, 315, 854, 130, 46, 855, 90, 1595, 3, 316, 1, 1596, 1597, 22, 1323, 856, 110, 1598, 5, 2, 253, 1599, 358, 27], [68, 8, 58, 166, 1600, 15, 12, 10], [39, 65, 91, 70, 28, 254, 110, 6, 728, 4, 496, 1, 3686, 42, 51, 564, 3, 1601, 92, 233, 32, 120, 234]]\n",
      "rows are:  1688\n",
      "columns are:  28\n"
     ]
    }
   ],
   "source": [
    "encodedText = token.texts_to_sequences(text)\n",
    "print(encodedText[:3])\n",
    "print('rows are: ',len(encodedText))\n",
    "print('columns are: ',len(encodedText[0]))"
   ]
  },
  {
   "cell_type": "markdown",
   "metadata": {},
   "source": [
    "### Make training input equal in size"
   ]
  },
  {
   "cell_type": "code",
   "execution_count": 43,
   "metadata": {},
   "outputs": [
    {
     "name": "stdout",
     "output_type": "stream",
     "text": [
      "[[   0    0    0 ... 1599  358   27]\n",
      " [   0    0    0 ...   15   12   10]\n",
      " [   0    0    0 ...   32  120  234]\n",
      " ...\n",
      " [   0    0    0 ...   74 4791 3652]\n",
      " [   0    0    0 ...  846   21  119]\n",
      " [   0    0    0 ...    1 1062 1555]]\n"
     ]
    }
   ],
   "source": [
    "maxLength = 100 # make all rows equal in size\n",
    "fixed = pad_sequences(encodedText,maxlen=maxLength,padding='pre') # could be configured as padding= 'post'\n",
    "print(fixed)"
   ]
  },
  {
   "cell_type": "code",
   "execution_count": 44,
   "metadata": {},
   "outputs": [
    {
     "data": {
      "text/plain": [
       "(1688, 100)"
      ]
     },
     "execution_count": 44,
     "metadata": {},
     "output_type": "execute_result"
    }
   ],
   "source": [
    "fixed.shape"
   ]
  },
  {
   "cell_type": "markdown",
   "metadata": {},
   "source": [
    "# 'GloVe' Vectors"
   ]
  },
  {
   "cell_type": "code",
   "execution_count": 45,
   "metadata": {},
   "outputs": [],
   "source": [
    "GloveVectors = dict()"
   ]
  },
  {
   "cell_type": "code",
   "execution_count": 46,
   "metadata": {},
   "outputs": [
    {
     "name": "stdout",
     "output_type": "stream",
     "text": [
      "CPU times: total: 21.7 s\n",
      "Wall time: 21.7 s\n"
     ]
    }
   ],
   "source": [
    "%%time\n",
    "# file = open('gloveTwitter/glove.twitter.27B.200d.txt', encoding='utf-8')\n",
    "# file = open('gloveTwitter/glove.840B.300d.txt', encoding='utf-8')\n",
    "file = open('dictionaries/gloveTwitter/glove.6B.300d.txt', encoding='utf-8')\n",
    "\n",
    "for line in file:\n",
    "    values = line.split()\n",
    "    word = values[0]                    # to skip the first element which is a word \n",
    "    vectors = np.asarray(values[1:])    # to start from the numbers that are located after the word\n",
    "    GloveVectors[word] = vectors\n",
    "file.close()"
   ]
  },
  {
   "cell_type": "code",
   "execution_count": 47,
   "metadata": {},
   "outputs": [
    {
     "data": {
      "text/plain": [
       "400000"
      ]
     },
     "execution_count": 47,
     "metadata": {},
     "output_type": "execute_result"
    }
   ],
   "source": [
    "len(GloveVectors.keys())    #number of keys for twitter GloVe 1193514/ for 300giga vector 400000/ glove.840B.300d 2195884"
   ]
  },
  {
   "cell_type": "code",
   "execution_count": 48,
   "metadata": {},
   "outputs": [
    {
     "name": "stdout",
     "output_type": "stream",
     "text": [
      "number of words found in GloVe:  4384\n",
      "number of words out of GloVe:  409\n"
     ]
    }
   ],
   "source": [
    "# wordVectorMatrix=np.zeros((vocabSize, 200)) # each word at vocab, should have 200 more dimentsion\n",
    "wordVectorMatrix=np.zeros((vocabSize, 300)) # each word at vocab, should have 300 more dimentsion\n",
    "\n",
    "currentWord=0\n",
    "new_Words=0\n",
    "for word, index in token.word_index.items():\n",
    "    vector= GloveVectors.get(word)\n",
    "    if vector is not None:\n",
    "        currentWord += 1\n",
    "        wordVectorMatrix[index] = vector\n",
    "    else:\n",
    "        new_Words +=1\n",
    "print('number of words found in GloVe: ',currentWord)   #number of words found in GloVe:  2654-3908  / back translated 3004-4384\n",
    "print('number of words out of GloVe: ',new_Words)       #number of words out of GloVe:  249-367     / back translated 283-409"
   ]
  },
  {
   "cell_type": "markdown",
   "metadata": {},
   "source": [
    "### TF2.0 and Keras Model Building"
   ]
  },
  {
   "cell_type": "code",
   "execution_count": 49,
   "metadata": {},
   "outputs": [],
   "source": [
    "X_train, X_tset, Y_train, Y_test = train_test_split(fixed, target, random_state=42, test_size= 0.215, shuffle=True,stratify=target)"
   ]
  },
  {
   "cell_type": "markdown",
   "metadata": {},
   "source": [
    "# CNN-Model"
   ]
  },
  {
   "cell_type": "code",
   "execution_count": 3,
   "metadata": {},
   "outputs": [],
   "source": [
    "# # vecSize = 200\n",
    "# vecSize = 300\n",
    "\n",
    "# model = Sequential()\n",
    "# model.add(Embedding(vocabSize, vecSize, input_length = maxLength, weights = [wordVectorMatrix], trainable = False))\n",
    "\n",
    "# model.add(Conv1D(50, 8, activation='relu')) #filters, kernelsize, activation\n",
    "# model.add(MaxPooling1D(5))\n",
    "\n",
    "# # model.add(Dense(32, activation='relu'))\n",
    "\n",
    "# # model.add(Dense(16, activation='relu'))\n",
    "# # model.add(Dropout(0.01))\n",
    "\n",
    "# model.add(GlobalMaxPooling1D())\n",
    "# model.add(Dropout(0.35))\n",
    "\n",
    "# model.add(Dense(1, activation='sigmoid'))\n",
    "# model.add(Dropout(0.55))\n",
    "\n",
    "# model.compile(optimizer=Adam(learning_rate=0.001), loss= 'binary_crossentropy', metrics=['accuracy'])\n",
    "\n",
    "# print(model.summary())\n",
    "# model.fit(X_train, Y_train, epochs=160,batch_size=2, validation_data=(X_tset, Y_test))\n",
    "# # history=model.fit(X_train, Y_train, epochs=128,batch_size=16, validation_data=(X_tset, Y_test))\n",
    "\n",
    "# #time 2m 22.7s\n"
   ]
  },
  {
   "cell_type": "markdown",
   "metadata": {},
   "source": [
    "# LSTM-Model"
   ]
  },
  {
   "cell_type": "code",
   "execution_count": 51,
   "metadata": {},
   "outputs": [],
   "source": [
    "# %%time\n",
    "# vecSize = 300\n",
    "# Y_train=pd.get_dummies(Y_train)\n",
    "# Y_test=pd.get_dummies(Y_test)\n",
    "# target=pd.get_dummies(target)\n",
    "# ouTarget=pd.get_dummies(ouTarget)\n",
    "# n_categories=2\n",
    "\n",
    "# model = Sequential()\n",
    "\n",
    "# # Keras Embedding layer with Word2Vec weights initialization\n",
    "# model.add(Embedding(input_dim=vocabSize,\n",
    "#                     output_dim=vecSize,\n",
    "#                     weights=[wordVectorMatrix],\n",
    "#                     input_length=maxLength,\n",
    "#                     mask_zero=True,\n",
    "#                     trainable=False))\n",
    "# # print(w2v_weights.shape)\n",
    "# model.add(LSTM(20, dropout=0.4, activation='tanh', recurrent_dropout=0.4))\n",
    "# # # model.add(Flatten())\n",
    "# model.add(Dense(n_categories,activation='sigmoid'))\n",
    "# model.add(Dropout(0.55))\n",
    "\n",
    "# model.add(Activation('softmax'))\n",
    "# model.compile(loss='categorical_crossentropy',optimizer='adam', metrics=['accuracy']) #sparse_categorical_crossentropy\n",
    "# print(model.summary())\n",
    "\n",
    "# # model.fit(X_train, Y_train, epochs=5, batch_size=16, validation_data=(X_tset, Y_test), verbose=1) \n",
    "# model.fit(X_train, Y_train, epochs=64, batch_size=16, validation_data=(X_tset, Y_test), verbose=1) \n",
    "# # print(w2v_weights)\n",
    "\n",
    "# #time: 10min 50.1s"
   ]
  },
  {
   "cell_type": "code",
   "execution_count": 52,
   "metadata": {},
   "outputs": [],
   "source": [
    "# history = model.fit(X_train, Y_train, epochs=128,batch_size=16, validation_data=(X_tset, Y_test))"
   ]
  },
  {
   "cell_type": "markdown",
   "metadata": {},
   "source": [
    "## Plotting Loss and Accuracy Graphs"
   ]
  },
  {
   "cell_type": "code",
   "execution_count": 53,
   "metadata": {},
   "outputs": [],
   "source": [
    "# import matplotlib.pyplot as plt\n",
    "# plt.figure(figsize=(12, 12))\n",
    "# plt.plot(history.history['loss'])\n",
    "# plt.plot(history.history['val_loss'])\n",
    "# plt.title('Loss')\n",
    "# plt.legend(['train', 'val'], loc='upper left')\n",
    "# plt.show()\n",
    "\n",
    "# plt.figure(figsize=(12, 12))\n",
    "# plt.plot(history.history['accuracy'])\n",
    "# plt.plot(history.history['val_accuracy'])\n",
    "# plt.title('Accuracy')\n",
    "# plt.legend(['train', 'val'], loc='upper left')\n",
    "# plt.show()"
   ]
  },
  {
   "cell_type": "markdown",
   "metadata": {},
   "source": [
    "# in-domain evaluation"
   ]
  },
  {
   "cell_type": "code",
   "execution_count": 54,
   "metadata": {},
   "outputs": [],
   "source": [
    "from sklearn.metrics import classification_report\n",
    "testPredict= (model.predict(fixed) > 0.5).astype(\"int32\")\n",
    "# testPredict"
   ]
  },
  {
   "cell_type": "code",
   "execution_count": 55,
   "metadata": {},
   "outputs": [
    {
     "name": "stdout",
     "output_type": "stream",
     "text": [
      "in-domain \n",
      "               precision    recall  f1-score   support\n",
      "\n",
      "           0       0.95      0.85      0.90       975\n",
      "           1       0.82      0.94      0.87       713\n",
      "\n",
      "    accuracy                           0.89      1688\n",
      "   macro avg       0.88      0.89      0.88      1688\n",
      "weighted avg       0.89      0.89      0.89      1688\n",
      "\n"
     ]
    }
   ],
   "source": [
    "print ('in-domain \\n',classification_report(testPredict, target))"
   ]
  },
  {
   "cell_type": "markdown",
   "metadata": {},
   "source": [
    "# Save model"
   ]
  },
  {
   "cell_type": "code",
   "execution_count": 56,
   "metadata": {},
   "outputs": [],
   "source": [
    "# save\n",
    "# model.save(\"cnnGlove1\")"
   ]
  },
  {
   "cell_type": "code",
   "execution_count": 1,
   "metadata": {},
   "outputs": [],
   "source": [
    "from keras.models import load_model\n",
    "cnnGlove=load_model('cnnGlove')"
   ]
  },
  {
   "cell_type": "markdown",
   "metadata": {},
   "source": [
    "# Predict out-domain"
   ]
  },
  {
   "cell_type": "code",
   "execution_count": 58,
   "metadata": {},
   "outputs": [],
   "source": [
    "encodedOuText = token.texts_to_sequences(ouText)\n",
    "# print(encodedOuText[17:19])\n",
    "# print(encodedOuText)\n",
    "# print(ouText)"
   ]
  },
  {
   "cell_type": "code",
   "execution_count": 59,
   "metadata": {},
   "outputs": [
    {
     "name": "stdout",
     "output_type": "stream",
     "text": [
      "[[   0    0    0 ...   22 1500  130]\n",
      " [   0    0    0 ... 4632  335   37]\n",
      " [   0    0    0 ...   41   69   36]\n",
      " ...\n",
      " [   0    0    0 ...  823    5 2483]\n",
      " [   0    0    0 ...  205 2048   37]\n",
      " [   0    0    0 ...    8  239    6]]\n"
     ]
    }
   ],
   "source": [
    "maxLength = 100 # make all rows equal in size\n",
    "outFixed = pad_sequences(encodedOuText,maxlen=maxLength,padding='pre') # could be configured as padding= 'post'\n",
    "print(outFixed)"
   ]
  },
  {
   "cell_type": "code",
   "execution_count": 60,
   "metadata": {},
   "outputs": [
    {
     "data": {
      "text/plain": [
       "(670, 100)"
      ]
     },
     "execution_count": 60,
     "metadata": {},
     "output_type": "execute_result"
    }
   ],
   "source": [
    "outFixed.shape"
   ]
  },
  {
   "cell_type": "code",
   "execution_count": 61,
   "metadata": {},
   "outputs": [
    {
     "name": "stdout",
     "output_type": "stream",
     "text": [
      "out-domain \n",
      "               precision    recall  f1-score   support\n",
      "\n",
      "           0       0.62      0.52      0.57       240\n",
      "           1       0.75      0.82      0.79       430\n",
      "\n",
      "    accuracy                           0.71       670\n",
      "   macro avg       0.69      0.67      0.68       670\n",
      "weighted avg       0.71      0.71      0.71       670\n",
      "\n"
     ]
    }
   ],
   "source": [
    "testPredict= (model.predict(outFixed) > 0.5).astype(\"int32\")\n",
    "print ('out-domain \\n',classification_report(testPredict, ouTarget))\n"
   ]
  },
  {
   "cell_type": "code",
   "execution_count": 62,
   "metadata": {},
   "outputs": [
    {
     "name": "stdout",
     "output_type": "stream",
     "text": [
      "out-domain \n",
      "               precision    recall  f1-score   support\n",
      "\n",
      "           0       0.63      0.57      0.60       226\n",
      "           1       0.79      0.83      0.81       444\n",
      "\n",
      "    accuracy                           0.74       670\n",
      "   macro avg       0.71      0.70      0.70       670\n",
      "weighted avg       0.74      0.74      0.74       670\n",
      "\n"
     ]
    }
   ],
   "source": [
    "testPredict= (cnnGlove.predict(outFixed) > 0.5).astype(\"int32\")\n",
    "print ('out-domain \\n',classification_report(testPredict, ouTarget))\n"
   ]
  },
  {
   "cell_type": "markdown",
   "metadata": {},
   "source": [
    "# Clustering"
   ]
  },
  {
   "cell_type": "code",
   "execution_count": 63,
   "metadata": {},
   "outputs": [],
   "source": [
    "from matplotlib import pyplot as plt\n",
    "%matplotlib inline\n",
    "import plotly.express as px\n",
    "#Libraries for clustering\n",
    "from sklearn.cluster import KMeans\n",
    "\n",
    "from sklearn.feature_extraction.text import CountVectorizer, TfidfVectorizer\n"
   ]
  },
  {
   "cell_type": "code",
   "execution_count": 64,
   "metadata": {},
   "outputs": [],
   "source": [
    "vectorizerTf = TfidfVectorizer(stop_words='english')\n",
    "vectorizerNtf = TfidfVectorizer(stop_words='english',analyzer='word',ngram_range=(1,2))  \n",
    "                                                                    #TF-IDF (n-gram level)// \n",
    "                                                                    #consider n-grams between 1 (individual words) \n",
    "                                                                    # and 2 (sequences of 2 words or bi-grams)\n",
    "vectorizerBag = CountVectorizer(stop_words='english')"
   ]
  },
  {
   "cell_type": "code",
   "execution_count": 65,
   "metadata": {},
   "outputs": [],
   "source": [
    "def cleanWebsite(tweet):\n",
    "    tweet= re.sub(r'websiteisgiven','',tweet) #remove websiteisgiven ;r-> the expression is a raw string,+ -> one char or more\n",
    "    return tweet"
   ]
  },
  {
   "cell_type": "code",
   "execution_count": 66,
   "metadata": {},
   "outputs": [],
   "source": [
    "indomain['tweetClus']=indomain['tweet'].apply(lambda txt:cleanWebsite(txt))\n",
    "textCluster=indomain['tweetClus'].tolist()"
   ]
  },
  {
   "cell_type": "code",
   "execution_count": 67,
   "metadata": {},
   "outputs": [
    {
     "data": {
      "text/plain": [
       "<844x3994 sparse matrix of type '<class 'numpy.float64'>'\n",
       "\twith 7539 stored elements in Compressed Sparse Row format>"
      ]
     },
     "execution_count": 67,
     "metadata": {},
     "output_type": "execute_result"
    }
   ],
   "source": [
    "xTf=vectorizerTf.fit_transform(inText)\n",
    "xBag=vectorizerBag.fit_transform(inText)\n",
    "xNtf = vectorizerNtf.fit_transform(inText)\n",
    "xTf"
   ]
  },
  {
   "cell_type": "code",
   "execution_count": 68,
   "metadata": {},
   "outputs": [
    {
     "data": {
      "image/png": "[encoded data removed]",
      "text/plain": [
       "<Figure size 432x288 with 1 Axes>"
      ]
     },
     "metadata": {
      "needs_background": "light"
     },
     "output_type": "display_data"
    }
   ],
   "source": [
    "#Test increments of 100 clusters using elbow method\n",
    "distortions = []\n",
    "sse={}\n",
    "K=range(1,10)\n",
    "# for k in np.arange(100,900,100):\n",
    "for k in K:\n",
    "    kmeans = KMeans(n_clusters=k, max_iter=1000).fit(xTf)\n",
    "    distortions.append(kmeans.inertia_)\n",
    "    # sse[k] = kmeans.inertia_\n",
    "# plt.plot(list(sse.keys()),list(sse.values()))\n",
    "plt.plot(K,distortions,'bx-')\n",
    "plt.xlabel('Values for K')\n",
    "plt.ylabel('SSE')\n",
    "plt.title('The Elbow Method showing the optimal k')\n",
    "plt.show()\n",
    "\n",
    "#time 1m 35.7s"
   ]
  },
  {
   "cell_type": "code",
   "execution_count": 69,
   "metadata": {},
   "outputs": [
    {
     "data": {
      "image/png": "[encoded data removed]",
      "text/plain": [
       "<Figure size 432x288 with 1 Axes>"
      ]
     },
     "metadata": {
      "needs_background": "light"
     },
     "output_type": "display_data"
    }
   ],
   "source": [
    "#Test increments of 100 clusters using elbow method\n",
    "distortions = []\n",
    "sse={}\n",
    "K=range(1,10)\n",
    "# for k in np.arange(100,900,100):\n",
    "for k in K:\n",
    "    kmeans = KMeans(n_clusters=k, max_iter=1000).fit(xBag)\n",
    "    distortions.append(kmeans.inertia_)\n",
    "    # sse[k] = kmeans.inertia_\n",
    "# plt.plot(list(sse.keys()),list(sse.values()))\n",
    "plt.plot(K,distortions,'bx-')\n",
    "plt.xlabel('Values for K')\n",
    "plt.ylabel('SSE')\n",
    "plt.title('The Elbow Method showing the optimal k')\n",
    "plt.show()"
   ]
  },
  {
   "cell_type": "code",
   "execution_count": 70,
   "metadata": {},
   "outputs": [
    {
     "data": {
      "image/png": "[encoded data removed]",
      "text/plain": [
       "<Figure size 432x288 with 1 Axes>"
      ]
     },
     "metadata": {
      "needs_background": "light"
     },
     "output_type": "display_data"
    }
   ],
   "source": [
    "#Test increments of 100 clusters using elbow method\n",
    "distortions = []\n",
    "sse={}\n",
    "K=range(1,10)\n",
    "# for k in np.arange(100,900,100):\n",
    "for k in K:\n",
    "    kmeans = KMeans(n_clusters=k, max_iter=1000).fit(xNtf)\n",
    "    distortions.append(kmeans.inertia_)\n",
    "    # sse[k] = kmeans.inertia_\n",
    "# plt.plot(list(sse.keys()),list(sse.values()))\n",
    "plt.plot(K,distortions,'bx-')\n",
    "plt.xlabel('Values for K')\n",
    "plt.ylabel('SSE')\n",
    "plt.title('The Elbow Method showing the optimal k')\n",
    "plt.show()"
   ]
  },
  {
   "cell_type": "markdown",
   "metadata": {},
   "source": [
    "### Create clusters"
   ]
  },
  {
   "cell_type": "code",
   "execution_count": 71,
   "metadata": {},
   "outputs": [
    {
     "data": {
      "text/plain": [
       "KMeans(max_iter=10000, n_init=1)"
      ]
     },
     "execution_count": 71,
     "metadata": {},
     "output_type": "execute_result"
    }
   ],
   "source": [
    "k=8\n",
    "kModel=KMeans(n_clusters=k,init='k-means++', max_iter=10000, n_init=1)\n",
    "kModel.fit(xTf)"
   ]
  },
  {
   "cell_type": "code",
   "execution_count": 72,
   "metadata": {},
   "outputs": [
    {
     "data": {
      "text/html": [
       "<div>\n",
       "<style scoped>\n",
       "    .dataframe tbody tr th:only-of-type {\n",
       "        vertical-align: middle;\n",
       "    }\n",
       "\n",
       "    .dataframe tbody tr th {\n",
       "        vertical-align: top;\n",
       "    }\n",
       "\n",
       "    .dataframe thead th {\n",
       "        text-align: right;\n",
       "    }\n",
       "</style>\n",
       "<table border=\"1\" class=\"dataframe\">\n",
       "  <thead>\n",
       "    <tr style=\"text-align: right;\">\n",
       "      <th></th>\n",
       "      <th>tweet</th>\n",
       "      <th>subjectivity</th>\n",
       "      <th>tweetClus</th>\n",
       "      <th>Cluster</th>\n",
       "    </tr>\n",
       "  </thead>\n",
       "  <tbody>\n",
       "    <tr>\n",
       "      <th>0</th>\n",
       "      <td>does canada have its own spy agency lol the...</td>\n",
       "      <td>subjective</td>\n",
       "      <td>does canada have its own spy agency lol the...</td>\n",
       "      <td>5</td>\n",
       "    </tr>\n",
       "    <tr>\n",
       "      <th>1</th>\n",
       "      <td>yes i dont want ya as james bond</td>\n",
       "      <td>subjective</td>\n",
       "      <td>yes i dont want ya as james bond</td>\n",
       "      <td>1</td>\n",
       "    </tr>\n",
       "    <tr>\n",
       "      <th>2</th>\n",
       "      <td>we all love ryan but hes canadian and inste...</td>\n",
       "      <td>subjective</td>\n",
       "      <td>we all love ryan but hes canadian and inste...</td>\n",
       "      <td>7</td>\n",
       "    </tr>\n",
       "    <tr>\n",
       "      <th>3</th>\n",
       "      <td>you woud make a great james bond but you wo...</td>\n",
       "      <td>subjective</td>\n",
       "      <td>you woud make a great james bond but you wo...</td>\n",
       "      <td>1</td>\n",
       "    </tr>\n",
       "    <tr>\n",
       "      <th>4</th>\n",
       "      <td>he looks like an agent or kingsman type of shi...</td>\n",
       "      <td>subjective</td>\n",
       "      <td>he looks like an agent or kingsman type of shi...</td>\n",
       "      <td>1</td>\n",
       "    </tr>\n",
       "  </tbody>\n",
       "</table>\n",
       "</div>"
      ],
      "text/plain": [
       "                                               tweet subjectivity  \\\n",
       "0     does canada have its own spy agency lol the...   subjective   \n",
       "1                   yes i dont want ya as james bond   subjective   \n",
       "2     we all love ryan but hes canadian and inste...   subjective   \n",
       "3     you woud make a great james bond but you wo...   subjective   \n",
       "4  he looks like an agent or kingsman type of shi...   subjective   \n",
       "\n",
       "                                           tweetClus  Cluster  \n",
       "0     does canada have its own spy agency lol the...        5  \n",
       "1                   yes i dont want ya as james bond        1  \n",
       "2     we all love ryan but hes canadian and inste...        7  \n",
       "3     you woud make a great james bond but you wo...        1  \n",
       "4  he looks like an agent or kingsman type of shi...        1  "
      ]
     },
     "execution_count": 72,
     "metadata": {},
     "output_type": "execute_result"
    }
   ],
   "source": [
    "indomain['Cluster']=kModel.labels_\n",
    "\n",
    "indomain.head()"
   ]
  },
  {
   "cell_type": "markdown",
   "metadata": {},
   "source": [
    "### Output results to a text file"
   ]
  },
  {
   "cell_type": "code",
   "execution_count": 73,
   "metadata": {},
   "outputs": [],
   "source": [
    "# clusters= indomain.groupby('Cluster')\n",
    "\n",
    "# for cluster in clusters.groups:\n",
    "#     f=open('Cluster'+ str(cluster)+'.csv','w') #create csv file\n",
    "#     data=clusters.get_group(cluster)[['tweet','subjectivity']] #get tweet & subjectivity columns\n",
    "#     f.write(data.to_csv(index_label='id')) #set index to id\n",
    "#     f.close()"
   ]
  },
  {
   "cell_type": "markdown",
   "metadata": {},
   "source": [
    "## Understand what each cluster refers to"
   ]
  },
  {
   "cell_type": "code",
   "execution_count": 74,
   "metadata": {},
   "outputs": [
    {
     "name": "stdout",
     "output_type": "stream",
     "text": [
      "Cluster centroids: \n",
      "\n",
      "Cluster 0:\n",
      " restaurants\n",
      " ones\n",
      " denver\n",
      " takeout\n",
      " offering\n",
      " meals\n",
      " thanksgiving\n",
      " covid\n",
      " future\n",
      " friday\n",
      "-----------\n",
      "Cluster 1:\n",
      " bond\n",
      " james\n",
      " websiteisgiven\n",
      " wants\n",
      " 007\n",
      " movie\n",
      " ryan\n",
      " holland\n",
      " tom\n",
      " new\n",
      "-----------\n",
      "Cluster 2:\n",
      " think\n",
      " good\n",
      " business\n",
      " world\n",
      " big\n",
      " actor\n",
      " state\n",
      " restaurant\n",
      " trailer\n",
      " pay\n",
      "-----------\n",
      "Cluster 3:\n",
      " great\n",
      " live\n",
      " restaurant\n",
      " music\n",
      " sales\n",
      " express\n",
      " panda\n",
      " fix\n",
      " slump\n",
      " wellknown\n",
      "-----------\n",
      "Cluster 4:\n",
      " restaurant\n",
      " websiteisgiven\n",
      " like\n",
      " dont\n",
      " movies\n",
      " need\n",
      " going\n",
      " life\n",
      " says\n",
      " chicken\n",
      "-----------\n",
      "Cluster 5:\n",
      " movie\n",
      " just\n",
      " im\n",
      " trilogy\n",
      " watching\n",
      " websiteisgiven\n",
      " love\n",
      " like\n",
      " trash\n",
      " theater\n",
      "-----------\n",
      "Cluster 6:\n",
      " new\n",
      " york\n",
      " study\n",
      " websiteisgiven\n",
      " university\n",
      " shawn\n",
      " yesterday\n",
      " killed\n",
      " jamesbond\n",
      " like\n",
      "-----------\n",
      "Cluster 7:\n",
      " yes\n",
      " lol\n",
      " 098\n",
      " 7910\n",
      " 077\n",
      " right\n",
      " mean\n",
      " agree\n",
      " research\n",
      " hey\n",
      "-----------\n"
     ]
    }
   ],
   "source": [
    "print('Cluster centroids: \\n')\n",
    "orderCentroids= kModel.cluster_centers_.argsort()[:,::-1]\n",
    "terms=vectorizerTf.get_feature_names_out()\n",
    "\n",
    "for i in range(k):\n",
    "    print('Cluster %d:' %i)\n",
    "    for j in orderCentroids[i, :10]: # print out 10 feature terms of each cluster\n",
    "        print (' %s' %terms[j])\n",
    "    print('-----------')"
   ]
  },
  {
   "cell_type": "markdown",
   "metadata": {},
   "source": [
    "### Evaluating Clustering method"
   ]
  },
  {
   "cell_type": "code",
   "execution_count": 75,
   "metadata": {},
   "outputs": [
    {
     "data": {
      "text/plain": [
       "0.007133252069057795"
      ]
     },
     "execution_count": 75,
     "metadata": {},
     "output_type": "execute_result"
    }
   ],
   "source": [
    "from sklearn.metrics import silhouette_score\n",
    "silhouette_score(xTf, labels=kModel.predict(xTf))"
   ]
  },
  {
   "cell_type": "code",
   "execution_count": 76,
   "metadata": {},
   "outputs": [],
   "source": [
    "from sklearn.cluster import DBSCAN\n",
    "\n",
    "dbClus = DBSCAN(eps=1, min_samples=2).fit(xTf)"
   ]
  },
  {
   "cell_type": "code",
   "execution_count": 77,
   "metadata": {},
   "outputs": [
    {
     "data": {
      "text/html": [
       "<div>\n",
       "<style scoped>\n",
       "    .dataframe tbody tr th:only-of-type {\n",
       "        vertical-align: middle;\n",
       "    }\n",
       "\n",
       "    .dataframe tbody tr th {\n",
       "        vertical-align: top;\n",
       "    }\n",
       "\n",
       "    .dataframe thead th {\n",
       "        text-align: right;\n",
       "    }\n",
       "</style>\n",
       "<table border=\"1\" class=\"dataframe\">\n",
       "  <thead>\n",
       "    <tr style=\"text-align: right;\">\n",
       "      <th></th>\n",
       "      <th>tweet</th>\n",
       "      <th>subjectivity</th>\n",
       "      <th>tweetClus</th>\n",
       "      <th>Cluster</th>\n",
       "      <th>DbCluster</th>\n",
       "    </tr>\n",
       "  </thead>\n",
       "  <tbody>\n",
       "    <tr>\n",
       "      <th>0</th>\n",
       "      <td>does canada have its own spy agency lol the...</td>\n",
       "      <td>subjective</td>\n",
       "      <td>does canada have its own spy agency lol the...</td>\n",
       "      <td>5</td>\n",
       "      <td>0</td>\n",
       "    </tr>\n",
       "    <tr>\n",
       "      <th>1</th>\n",
       "      <td>yes i dont want ya as james bond</td>\n",
       "      <td>subjective</td>\n",
       "      <td>yes i dont want ya as james bond</td>\n",
       "      <td>1</td>\n",
       "      <td>-1</td>\n",
       "    </tr>\n",
       "    <tr>\n",
       "      <th>2</th>\n",
       "      <td>we all love ryan but hes canadian and inste...</td>\n",
       "      <td>subjective</td>\n",
       "      <td>we all love ryan but hes canadian and inste...</td>\n",
       "      <td>7</td>\n",
       "      <td>0</td>\n",
       "    </tr>\n",
       "    <tr>\n",
       "      <th>3</th>\n",
       "      <td>you woud make a great james bond but you wo...</td>\n",
       "      <td>subjective</td>\n",
       "      <td>you woud make a great james bond but you wo...</td>\n",
       "      <td>1</td>\n",
       "      <td>0</td>\n",
       "    </tr>\n",
       "    <tr>\n",
       "      <th>4</th>\n",
       "      <td>he looks like an agent or kingsman type of shi...</td>\n",
       "      <td>subjective</td>\n",
       "      <td>he looks like an agent or kingsman type of shi...</td>\n",
       "      <td>1</td>\n",
       "      <td>0</td>\n",
       "    </tr>\n",
       "  </tbody>\n",
       "</table>\n",
       "</div>"
      ],
      "text/plain": [
       "                                               tweet subjectivity  \\\n",
       "0     does canada have its own spy agency lol the...   subjective   \n",
       "1                   yes i dont want ya as james bond   subjective   \n",
       "2     we all love ryan but hes canadian and inste...   subjective   \n",
       "3     you woud make a great james bond but you wo...   subjective   \n",
       "4  he looks like an agent or kingsman type of shi...   subjective   \n",
       "\n",
       "                                           tweetClus  Cluster  DbCluster  \n",
       "0     does canada have its own spy agency lol the...        5          0  \n",
       "1                   yes i dont want ya as james bond        1         -1  \n",
       "2     we all love ryan but hes canadian and inste...        7          0  \n",
       "3     you woud make a great james bond but you wo...        1          0  \n",
       "4  he looks like an agent or kingsman type of shi...        1          0  "
      ]
     },
     "execution_count": 77,
     "metadata": {},
     "output_type": "execute_result"
    }
   ],
   "source": [
    "indomain['DbCluster']=dbClus.labels_\n",
    "\n",
    "indomain.head()"
   ]
  },
  {
   "cell_type": "code",
   "execution_count": 78,
   "metadata": {},
   "outputs": [
    {
     "data": {
      "text/plain": [
       "array([-1,  0,  1,  2,  3], dtype=int64)"
      ]
     },
     "execution_count": 78,
     "metadata": {},
     "output_type": "execute_result"
    }
   ],
   "source": [
    "clustUniq=np.unique(dbClus.labels_)\n",
    "clustUniq"
   ]
  },
  {
   "cell_type": "code",
   "execution_count": 79,
   "metadata": {},
   "outputs": [
    {
     "name": "stdout",
     "output_type": "stream",
     "text": [
      "Cluster centroids: \n",
      "\n",
      "Cluster -1:\n",
      " 000\n",
      " 0069\n",
      " 007\n",
      " 007jamesbond\n",
      " 007later\n",
      " 007notimetodie\n",
      " 00maple\n",
      " 0500\n",
      " 077\n",
      " 098\n",
      "-----------\n",
      "Cluster 0:\n",
      " 000\n",
      " 0069\n",
      " 007\n",
      " 007jamesbond\n",
      " 007later\n",
      " 007notimetodie\n",
      " 00maple\n",
      " 0500\n",
      " 077\n",
      " 098\n",
      "-----------\n",
      "Cluster 1:\n",
      " 000\n",
      " 0069\n",
      " 007\n",
      " 007jamesbond\n",
      " 007later\n",
      " 007notimetodie\n",
      " 00maple\n",
      " 0500\n",
      " 077\n",
      " 098\n",
      "-----------\n",
      "Cluster 2:\n",
      " 000\n",
      " 0069\n",
      " 007\n",
      " 007jamesbond\n",
      " 007later\n",
      " 007notimetodie\n",
      " 00maple\n",
      " 0500\n",
      " 077\n",
      " 098\n",
      "-----------\n",
      "Cluster 3:\n",
      " 000\n",
      " 0069\n",
      " 007\n",
      " 007jamesbond\n",
      " 007later\n",
      " 007notimetodie\n",
      " 00maple\n",
      " 0500\n",
      " 077\n",
      " 098\n",
      "-----------\n"
     ]
    }
   ],
   "source": [
    "print('Cluster centroids: \\n')\n",
    "# orderDbCentroids= dbClus.cluster_centers_.argsort()[:,::-1]\n",
    "terms=vectorizerTf.get_feature_names_out()\n",
    "\n",
    "for i in clustUniq:\n",
    "    print('Cluster %d:' %i)\n",
    "    for j in range(10): # print out 10 feature terms of each cluster\n",
    "        print (' %s' %terms[j])\n",
    "    print('-----------')"
   ]
  },
  {
   "cell_type": "code",
   "execution_count": 80,
   "metadata": {},
   "outputs": [
    {
     "data": {
      "text/plain": [
       "0.014350785806533149"
      ]
     },
     "execution_count": 80,
     "metadata": {},
     "output_type": "execute_result"
    }
   ],
   "source": [
    "from sklearn.metrics import silhouette_score\n",
    "silhouette_score(xTf, labels=dbClus.fit_predict(xTf))"
   ]
  },
  {
   "cell_type": "markdown",
   "metadata": {},
   "source": [
    "## Visualize model"
   ]
  },
  {
   "cell_type": "code",
   "execution_count": 1,
   "metadata": {},
   "outputs": [],
   "source": [
    "from sklearn.preprocessing import LabelEncoder\n"
   ]
  },
  {
   "cell_type": "code",
   "execution_count": 4,
   "metadata": {},
   "outputs": [
    {
     "name": "stdout",
     "output_type": "stream",
     "text": [
      "Model: \"sequential_48\"\n",
      "_________________________________________________________________\n",
      " Layer (type)                Output Shape              Param #   \n",
      "=================================================================\n",
      " embedding_48 (Embedding)    (None, 100, 300)          1438200   \n",
      "                                                                 \n",
      " conv1d_40 (Conv1D)          (None, 92, 81)            218781    \n",
      "                                                                 \n",
      " max_pooling1d_40 (MaxPoolin  (None, 30, 81)           0         \n",
      " g1D)                                                            \n",
      "                                                                 \n",
      " global_max_pooling1d_40 (Gl  (None, 81)               0         \n",
      " obalMaxPooling1D)                                               \n",
      "                                                                 \n",
      " dropout_99 (Dropout)        (None, 81)                0         \n",
      "                                                                 \n",
      " dense_48 (Dense)            (None, 1)                 82        \n",
      "                                                                 \n",
      " dropout_100 (Dropout)       (None, 1)                 0         \n",
      "                                                                 \n",
      "=================================================================\n",
      "Total params: 1,657,063\n",
      "Trainable params: 218,863\n",
      "Non-trainable params: 1,438,200\n",
      "_________________________________________________________________\n"
     ]
    }
   ],
   "source": [
    "cnnGlove.summary()"
   ]
  },
  {
   "cell_type": "markdown",
   "metadata": {},
   "source": [
    "## Plot: method-1"
   ]
  },
  {
   "cell_type": "code",
   "execution_count": 3,
   "metadata": {},
   "outputs": [],
   "source": [
    "from tensorflow.keras.utils import plot_model"
   ]
  },
  {
   "cell_type": "code",
   "execution_count": 6,
   "metadata": {},
   "outputs": [
    {
     "data": {
      "image/png": "[encoded data removed]",
      "text/plain": [
       "<IPython.core.display.Image object>"
      ]
     },
     "execution_count": 6,
     "metadata": {},
     "output_type": "execute_result"
    }
   ],
   "source": [
    "plot_model(cnnGlove,to_file='model.png',show_shapes=False)"
   ]
  },
  {
   "cell_type": "code",
   "execution_count": 7,
   "metadata": {},
   "outputs": [
    {
     "data": {
      "image/png": "[encoded data removed]",
      "text/plain": [
       "<IPython.core.display.Image object>"
      ]
     },
     "execution_count": 7,
     "metadata": {},
     "output_type": "execute_result"
    }
   ],
   "source": [
    "#show nodes\n",
    "plot_model(cnnGlove,to_file='modelNodes.png',show_shapes=True)"
   ]
  },
  {
   "cell_type": "markdown",
   "metadata": {},
   "source": [
    "## Plot: Method-2 ANN-Visualizer"
   ]
  },
  {
   "cell_type": "code",
   "execution_count": 4,
   "metadata": {},
   "outputs": [],
   "source": [
    "from ann_visualizer.visualize import ann_viz\n",
    "# import graphgviz"
   ]
  },
  {
   "cell_type": "code",
   "execution_count": 4,
   "metadata": {},
   "outputs": [],
   "source": [
    "# ann_viz(cnnGlove,filename='modelAnn.gv',title=\"CNN-model\")"
   ]
  }
 ],
 "metadata": {
  "interpreter": {
   "hash": "243c8d8109ff535f5c4253fe7817651727f2121cb5d18918e42bbc515b6938d7"
  },
  "kernelspec": {
   "display_name": "Python 3 (ipykernel)",
   "language": "python",
   "name": "python3"
  },
  "language_info": {
   "codemirror_mode": {
    "name": "ipython",
    "version": 3
   },
   "file_extension": ".py",
   "mimetype": "text/x-python",
   "name": "python",
   "nbconvert_exporter": "python",
   "pygments_lexer": "ipython3",
   "version": "3.8.0"
  }
 },
 "nbformat": 4,
 "nbformat_minor": 2
}
